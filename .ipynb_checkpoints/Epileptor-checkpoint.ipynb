{
 "cells": [
  {
   "cell_type": "code",
   "execution_count": 1,
   "metadata": {
    "collapsed": false
   },
   "outputs": [],
   "source": [
    "import numpy as np\n",
    "import matplotlib.pyplot as plt\n",
    "import sdeint\n",
    "%matplotlib inline"
   ]
  },
  {
   "cell_type": "code",
   "execution_count": 84,
   "metadata": {
    "collapsed": false
   },
   "outputs": [
    {
     "data": {
      "image/png": "[encoded data removed]",
      "text/plain": [
       "<matplotlib.figure.Figure at 0x10e287a58>"
      ]
     },
     "metadata": {},
     "output_type": "display_data"
    }
   ],
   "source": [
    "# Time\n",
    "t_start = 0.\n",
    "t_end = 25.\n",
    "N = 1000*(t_end-t_start)\n",
    "dt = float(t_end - t_start)/N\n",
    "t = [t_start + n*dt for n in range(N)]\n",
    "\n",
    "# Parameters\n",
    "x0 = -1.6\n",
    "y0 = 1.\n",
    "tau0 = 2857.\n",
    "tau1 = 1.\n",
    "tau2 = 10.\n",
    "Irest1 = 3.1\n",
    "Irest2 = 0.45\n",
    "gamma = 0.01\n",
    "\n",
    "# Initial conditions\n",
    "z_0 = 3.\n",
    "x1_0 = 0.\n",
    "y1_0 = -5.\n",
    "x2_0 = 0.\n",
    "y2_0 = 0.\n",
    "\n",
    "z = np.zeros(N); z[0] = z_0\n",
    "x1 = np.zeros(N); x1[0] = x1_0\n",
    "y1 = np.zeros(N); y1[0] = y1_0\n",
    "x2 = np.zeros(N); x2[0] = x2_0\n",
    "y2 = np.zeros(N); y2[0] = y2_0\n",
    "\n",
    "def f1_c(x1,x2,z):\n",
    "    return (x1**3 - 3.*x1**2) if (x1 < 0) else ((x2 - 0.6*((z-4)**2))*x1)\n",
    "def f2_c(x2):\n",
    "    return 0 if x2 < -0.25 else 6*(x2 + 0.25)\n",
    "def g_c(x1,t):\n",
    "#     return 0\n",
    "    return sum([np.exp(-gamma*(t[-1]-tau))*x1_tau for tau,x1_tau in zip(t,x1)])*dt\n",
    "    \n",
    "def x1_c(x1,y1,z,x2,y2,f1,f2,g):\n",
    "    return y1 - f1 - z + Irest1\n",
    "def y1_c(x1,y1,z,x2,y2,f1,f2,g):\n",
    "    return y0 - (5*x1**2) - y1\n",
    "def z_c(x1,y1,z,x2,y2,f1,f2,g):\n",
    "    return (1/tau0)*(4*(x1-x0) - z)\n",
    "def x2_c(x1,y1,z,x2,y2,f1,f2,g):\n",
    "    return -y2 + x2 - x2**3 + Irest2 + 0.002*g -.3*(z-3.5)\n",
    "def y2_c(x1,y1,z,x2,y2,f1,f2,g):\n",
    "    return (1/tau2)*(-y2 + f2)\n",
    "\n",
    "for n in range(N-1):\n",
    "    f1 = f1_c(x1[n],x2[n],z[n])\n",
    "    f2 = f2_c(x2[n])\n",
    "    g = g_c(x1[0:n],t[0:n])\n",
    "#     print('n=' + str(n) + ', g=' + str(g))\n",
    "    x1[n+1] = x1[n] + dt*x1_c(x1[n],y1[n],z[n],x2[n],y2[n],f1,f2,g)\n",
    "    y1[n+1] = y1[n] + dt*y1_c(x1[n],y1[n],z[n],x2[n],y2[n],f1,f2,g)\n",
    "    z[n+1] = z[n] + dt*z_c(x1[n],y1[n],z[n],x2[n],y2[n],f1,f2,g)\n",
    "    x2[n+1] = x2[n] + dt*x2_c(x1[n],y1[n],z[n],x2[n],y2[n],f1,f2,g)\n",
    "    y2[n+1] = y2[n] + dt*y2_c(x1[n],y1[n],z[n],x2[n],y2[n],f1,f2,g)\n",
    "    \n",
    "plt.plot(t,[xx1 + xx2 for xx1,xx2 in zip(x1,x2)])\n",
    "# plt.plot()\n",
    "plt.show()\n"
   ]
  },
  {
   "cell_type": "code",
   "execution_count": 6,
   "metadata": {
    "collapsed": false
   },
   "outputs": [],
   "source": [
    "# Time\n",
    "t_start = 0.\n",
    "t_end = 5000.\n",
    "N = 100*(t_end-t_start)\n",
    "dt = float(t_end - t_start)/N\n",
    "# t = [t_start + n*dt for n in range(N)]\n",
    "tspan = np.linspace(t_start,t_end,N)\n",
    "\n",
    "# Parameters\n",
    "x0, y0 = -1.6, 1.\n",
    "tau0, tau1, tau2 = 2857., 1., 10.\n",
    "Irest1, Irest2 = 3.1, 0.45\n",
    "gamma = 0.01\n",
    "\n",
    "def f1(x):\n",
    "    return(x[0]**3 - 3.*x[0]**2) if (x[0] < 0) else ((x[3] - 0.6*((x[2]-4)**2))*x[0])\n",
    "def f2(x):\n",
    "    return 0 if x[3] < -0.25 else 6*(x[3] + 0.25)\n",
    "\n",
    "ic = np.array([0.,-5.,3.,0.,0.,0.])\n",
    "\n",
    "def f(x,t):\n",
    "    \"\"\"\n",
    "    x = [0=x1,1=y1,2=z,3=x2,4=y2,5=g]\n",
    "    \"\"\"\n",
    "    return np.array([x[1] - f1(x) - x[2] + Irest1,\n",
    "           y0 - (5*x[0]**2) - x[1],\n",
    "           (1/tau0)*(4*(x[0]-x0) - x[2]),\n",
    "           -x[4] + x[3] - x[3]**3 + Irest2 + 0.002*x[5] -.3*(x[2]-3.5),\n",
    "           (1/tau2)*(-x[4] + f2(x)),\n",
    "           -gamma*(x[5] - .1*x[0])])\n",
    "#            x[0] - np.exp(-gamma*(x[6]))*ic[0],\n",
    "#            x[0] - np.exp(-gamma*(t))*ic[0]])\n",
    "#     return np.array(np.ones(7))\n",
    "def G(x,t):\n",
    "    a = [0, 0, 0, 1e-3, 1e-3, 0]\n",
    "    return np.diag(a)\n",
    "\n",
    "result = sdeint.itoint(f, G, ic, tspan)\n"
   ]
  },
  {
   "cell_type": "code",
   "execution_count": 154,
   "metadata": {
    "collapsed": false
   },
   "outputs": [
    {
     "data": {
      "text/plain": [
       "[0.25, 0.25, 0.25, 0.25, 0.25, 0.0]"
      ]
     },
     "execution_count": 154,
     "metadata": {},
     "output_type": "execute_result"
    }
   ],
   "source": [
    "a = list(0.25*np.ones(ic.size-1)); a.append(0.)\n",
    "a"
   ]
  },
  {
   "cell_type": "code",
   "execution_count": 5,
   "metadata": {
    "collapsed": false
   },
   "outputs": [
    {
     "name": "stderr",
     "output_type": "stream",
     "text": [
      "/Users/emilyschlafly/anaconda/envs/py3k/lib/python3.5/site-packages/ipykernel/__main__.py:1: RuntimeWarning: invalid value encountered in double_scalars\n",
      "  if __name__ == '__main__':\n"
     ]
    },
    {
     "data": {
      "text/plain": [
       "[<matplotlib.lines.Line2D at 0x111836780>]"
      ]
     },
     "execution_count": 5,
     "metadata": {},
     "output_type": "execute_result"
    },
    {
     "data": {
      "image/png": "[encoded data removed]",
      "text/plain": [
       "<matplotlib.figure.Figure at 0x10abef0f0>"
      ]
     },
     "metadata": {},
     "output_type": "display_data"
    }
   ],
   "source": [
    "plt.plot(tspan,[x1+x2 for x1,x2 in zip(result[:,0],result[:,3])])\n",
    "# plt.plot(result[:,3])\n",
    "# plt.plot(result[:,5])"
   ]
  },
  {
   "cell_type": "code",
   "execution_count": 104,
   "metadata": {
    "collapsed": false
   },
   "outputs": [
    {
     "data": {
      "text/plain": [
       "-145.80000000000001"
      ]
     },
     "execution_count": 104,
     "metadata": {},
     "output_type": "execute_result"
    }
   ],
   "source": [
    "f1(ic)"
   ]
  },
  {
   "cell_type": "code",
   "execution_count": 92,
   "metadata": {
    "collapsed": false
   },
   "outputs": [],
   "source": [
    "import numpy as np\n",
    "import sdeint\n",
    "\n",
    "A = np.array([[-0.5, -2.0],\n",
    "              [ 2.0, -1.0]])\n",
    "\n",
    "B = np.diag([0.5, 0.5]) # diagonal, so independent driving Wiener processes\n",
    "\n",
    "tspan = np.linspace(0.0, 10.0, 10001)\n",
    "x0 = np.array([3.0, 3.0])\n",
    "\n",
    "def f(x, t):\n",
    "    return A.dot(x)\n",
    "\n",
    "def G(x, t):\n",
    "    return B\n",
    "\n",
    "result = sdeint.itoint(f, G, x0, tspan)"
   ]
  },
  {
   "cell_type": "code",
   "execution_count": 101,
   "metadata": {
    "collapsed": false
   },
   "outputs": [
    {
     "data": {
      "text/plain": [
       "array([-7.5,  3. ])"
      ]
     },
     "execution_count": 101,
     "metadata": {},
     "output_type": "execute_result"
    }
   ],
   "source": [
    "A.dot(x0)"
   ]
  },
  {
   "cell_type": "code",
   "execution_count": 80,
   "metadata": {
    "collapsed": false
   },
   "outputs": [
    {
     "data": {
      "image/png": "[encoded data removed]",
      "text/plain": [
       "<matplotlib.figure.Figure at 0x10d63cfd0>"
      ]
     },
     "metadata": {},
     "output_type": "display_data"
    }
   ],
   "source": [
    "plt.plot(t,[xx1 + xx2 for xx1,xx2 in zip(x1,x2)])\n",
    "# plt.plot()\n",
    "plt.show()"
   ]
  },
  {
   "cell_type": "code",
   "execution_count": 40,
   "metadata": {
    "collapsed": false
   },
   "outputs": [],
   "source": [
    "assert (f1(-1,1,1) == -4.) & (f1(1,1,1) == (1-0.6*(-3)**2))\n",
    "assert (f2(-1) == 0) & (f2(1) == 6*(1.25))"
   ]
  },
  {
   "cell_type": "code",
   "execution_count": 68,
   "metadata": {
    "collapsed": false
   },
   "outputs": [
    {
     "data": {
      "text/plain": [
       "array([ -5.00000000e+00,   1.00000000e+00,  -1.19050000e+02,\n",
       "        -1.72751801e+05,  -3.78629511e+04])"
      ]
     },
     "execution_count": 68,
     "metadata": {},
     "output_type": "execute_result"
    }
   ],
   "source": [
    "y1"
   ]
  }
 ],
 "metadata": {
  "anaconda-cloud": {},
  "kernelspec": {
   "display_name": "Python [conda env:py3k]",
   "language": "python",
   "name": "conda-env-py3k-py"
  },
  "language_info": {
   "codemirror_mode": {
    "name": "ipython",
    "version": 3
   },
   "file_extension": ".py",
   "mimetype": "text/x-python",
   "name": "python",
   "nbconvert_exporter": "python",
   "pygments_lexer": "ipython3",
   "version": "3.5.2"
  }
 },
 "nbformat": 4,
 "nbformat_minor": 1
}
