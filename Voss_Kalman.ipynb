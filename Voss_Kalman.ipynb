{
 "cells": [
  {
   "cell_type": "code",
   "execution_count": 1,
   "metadata": {
    "collapsed": true
   },
   "outputs": [],
   "source": [
    "import numpy as np\n",
    "from scipy import linalg as la\n",
    "import matplotlib.pyplot as plt\n",
    "%matplotlib inline"
   ]
  },
  {
   "cell_type": "code",
   "execution_count": 2,
   "metadata": {
    "collapsed": true
   },
   "outputs": [],
   "source": [
    "# Supplementary functions\n",
    "\n",
    "def covariance(X,Y):\n",
    "    '''Calculates biased covariance (or cross covariance) of array-like X and Y'''\n",
    "    num_samples = len(X[0,:])\n",
    "    X_centered = mean_center(np.array(X))\n",
    "    Y_centered = mean_center(np.array(Y))\n",
    "    return np.matmul(X_centered,Y_centered.T/num_samples)\n",
    "\n",
    "def mean_center(X):\n",
    "    '''Centers the mean of rows of X (array-like) around 0.'''\n",
    "    return np.array([x - np.mean(x) for x in X])\n",
    "\n",
    "def symmetrize(A):\n",
    "    '''Numerical safety'''\n",
    "    return (A + np.transpose(A)) / 2"
   ]
  },
  {
   "cell_type": "raw",
   "metadata": {},
   "source": [
    "# vossut function translated from matlab code in Schiff, ch 5, p.110\n",
    "\n",
    "def voss_unscented_transform(p,xhat,Pxx,noisy_data,fct,obsfct,dims_params,dims_augmented_state,\n",
    "           dims_observations,R):\n",
    "    \n",
    "    Pxx = symmetrize(p.Pxx)\n",
    "    \n",
    "    Xa = generate_sigma_points(p.xhat,Pxx)\n",
    "    X = fct(p,dims_params,Xa)\n",
    "    Y = obsfct(p,X).reshape(1,-1)\n",
    "    \n",
    "    Pxx = symmetrize(covariance(X,X))\n",
    "    Pyy = covariance(Y,Y) + R\n",
    "    Pxy = covariance(X,Y)\n",
    "        \n",
    "    K = np.matmul(Pxy,la.inv(Pyy))\n",
    "    xhat = np.mean(X,1) + np.matmul(K,(noisy_data - np.mean(Y,1)))\n",
    "\n",
    "    Pxx = symmetrize(Pxx - np.matmul(K,Pxy.T))\n",
    "    \n",
    "    return xhat,Pxx,K\n",
    "\n",
    "def generate_sigma_points(xhat,Pxx):\n",
    "    '''Why have the extra terms from the Cholesky decomp?? Why not just use sigma in each direction?'''\n",
    "    dims = len(xhat)\n",
    "    num_sigma_points = 2*dims\n",
    "    Pxx = symmetrize(Pxx)\n",
    "    xsigma = la.cholesky(dims*Pxx,lower=True)\n",
    "    Xa = np.hstack((xsigma,-xsigma))\n",
    "    for i in range(num_sigma_points):\n",
    "        Xa[:,i]+=xhat\n",
    "    return Xa"
   ]
  },
  {
   "cell_type": "code",
   "execution_count": 3,
   "metadata": {
    "collapsed": false
   },
   "outputs": [],
   "source": [
    "# Integrators \n",
    "\n",
    "def ruku4(function, state, params, dt, steps, noise):\n",
    "    noise = state.shape[1]*[noise] if state.ndim == 2 else [noise]\n",
    "    state += np.array([n*np.random.randn(len(n))*np.sqrt(dt) for n in noise]).reshape(state.shape)\n",
    "    for i in range(steps):\n",
    "        k1 = dt*function(state,params)\n",
    "        k2 = dt*function(state+k1/2,params)\n",
    "        k3 = dt*function(state+k2/2,params)\n",
    "        k4 = dt*function(state+k3,params)\n",
    "        state += k1/6. + k2/3. + k3/3. + k4/6.\n",
    "    return state\n",
    "\n",
    "def euler_maruyama(function, state, params, dt, steps, noise):\n",
    "    noise = state.shape[1]*[noise] if state.ndim == 2 else [noise]\n",
    "    for i in range(steps):\n",
    "        state += dt*function(state,params) + np.array([n*np.random.randn(len(n))*np.sqrt(dt) for n in noise]).reshape(state.shape)\n",
    "    return state\n",
    "\n",
    "def euler(function, state, params, dt, steps, noise):\n",
    "    noise = state.shape[1]*[noise] if state.ndim == 2 else [noise]\n",
    "    for i in range(steps):\n",
    "        state += dt*function(state,params) \n",
    "    return state\n",
    "\n",
    "def test_integrator(function, state, params, dt, steps, noise):\n",
    "    noise = state.shape[1]*[noise] if state.ndim == 2 else [noise]\n",
    "    for i in range(steps):\n",
    "        state += np.zeros_like(state)\n",
    "    print('In test_integrator')\n",
    "    return state"
   ]
  },
  {
   "cell_type": "code",
   "execution_count": 4,
   "metadata": {
    "collapsed": true
   },
   "outputs": [],
   "source": [
    "class Model:\n",
    "    def __init__(self):\n",
    "        self.augmented_state = []\n",
    "        \n",
    "    def generate_simulation(self,plot=True):\n",
    "        '''\n",
    "        Simulates true and noisy trajectory based on previously \n",
    "        defined model and parameter functions\n",
    "        (Uses global vars)\n",
    "        '''\n",
    "#         global observation_sigmas, parameters, augmented_state, Q, R, Pxx, noisy_data\n",
    "\n",
    "        # Simulate model\n",
    "        true_state = self.integrate_model()\n",
    "        self.augmented_state = np.vstack((self.parameters*np.ones(\n",
    "                    (self.dims_params,self.num_samples)),true_state)) if self.dims_params > 0 else true_state\n",
    "        self.dims_augmented_state = self.dims_params+self.dims_state_vars\n",
    "\n",
    "        # Observation noise\n",
    "        if not self.observation_sigmas:\n",
    "            self.observation_sigmas = [0.2*0.2*np.var(\n",
    "                    self.observation_function(self.augmented_state))]\n",
    "        observation_noise = np.diag(self.observation_sigmas)\n",
    "        \n",
    "        # Create noisy data from true trajectory\n",
    "        self.noisy_data = self.observation_function(self.augmented_state) + np.matmul(\n",
    "            la.sqrtm(observation_noise), \n",
    "            np.random.randn(self.dims_observations,self.num_samples))\n",
    "\n",
    "        if plot: self.plot_simulated_data()\n",
    "        \n",
    "    def integrate_model(self):\n",
    "        true_state = np.zeros((len(self.initial_conditions),self.num_samples)) # allocate\n",
    "        true_state[:,0] = self.initial_conditions\n",
    "        for n in range(self.num_samples-1):\n",
    "            x_temp = true_state[:,n]\n",
    "            true_state[:,n+1] = self.integrate(state=x_temp, params=self.parameters[:,n])      \n",
    "        return true_state\n",
    "\n",
    "    def plot_simulated_data(self):\n",
    "        '''Plot simulation'''\n",
    "        plt.rc('text', usetex=True)\n",
    "        plt.figure(figsize=(10,2))\n",
    "        plt.plot(self.noisy_data[0,:],'bd',markeredgecolor='blue', mfc='blue',ms=3,label='noisy data');\n",
    "        plt.plot(self.observation_function(self.augmented_state).T,'k',linewidth=2,label='actual'); \n",
    "        plt.xlabel('t');\n",
    "        plt.legend();\n",
    "        plt.axis('tight')\n",
    "        plt.title('Simulation')\n",
    "    "
   ]
  },
  {
   "cell_type": "code",
   "execution_count": 5,
   "metadata": {
    "collapsed": false
   },
   "outputs": [],
   "source": [
    "class unscented_kalman_filter(Model):\n",
    "    def __init__(self,model):\n",
    "        self.model = model\n",
    "        self.sigma_points = []\n",
    "        self.results = []\n",
    "        self.initial_estimate = []\n",
    "        self.Pxx = np.zeros((model.dims_augmented_state,\n",
    "                             model.dims_augmented_state,model.num_samples))\n",
    "        self.set_covariances()\n",
    "        self.estimated_state = np.zeros((model.dims_augmented_state,model.num_samples)) # estimated trajectory\n",
    "        self.errors = np.zeros((model.dims_augmented_state, model.num_samples))\n",
    "        self.Ks = np.zeros((model.dims_augmented_state,\n",
    "                            model.dims_observations,model.num_samples))\n",
    "\n",
    "    def set_initial_estimate(self,initial_estimate=[],randrange=[]):\n",
    "        model = self.model\n",
    "        if initial_estimate:\n",
    "            self.estimated_state[:,0] = initial_estimate\n",
    "        elif randrange and np.all(np.array(randrange) >= 0):\n",
    "            if len(randrange) == 1:\n",
    "                r0, rf = 0, int(np.fix(randrange))\n",
    "            else:\n",
    "                r0, rf = int(np.fix(randrange[0])), int(np.fix(randrange[1]))\n",
    "            r = 2*rf\n",
    "            initial_estimate = -rf + np.random.randint(\n",
    "                r0,r,model.augmented_state[:,0].shape) + model.augmented_state[:,0]\n",
    "            self.estimated_state[:,0] = model.set_initial_estimate(initial_estimate)\n",
    "        elif self.initial_estimate:\n",
    "            self.estimated_state[:,0] = self.initial_estimate\n",
    "        else:\n",
    "            self.estimated_state[:,0] = model.augmented_state[:,0]\n",
    "    \n",
    "    def set_covariances(self):\n",
    "        model = self.model\n",
    "        sigmas = {}\n",
    "        sigmas['Q'] = model.process_sigmas\n",
    "        sigmas['R'] = model.observation_sigmas\n",
    "        Pxx_init = []\n",
    "        for n in model.Pxx0:\n",
    "            Pxx_init = np.hstack((Pxx_init,sigmas[n]))\n",
    "        Pxx_init = np.diag(Pxx_init)\n",
    "        self.Q = np.diag(sigmas['Q'])\n",
    "        self.R = np.diag(sigmas['R'])\n",
    "        self.Pxx[:,:,0] = Pxx_init\n",
    "\n",
    "    def generate_sigma_points(self,k):\n",
    "        '''Why have the extra terms from the Cholesky decomp?? Why not just use sigma in each direction?'''\n",
    "#         dims = len(self.estimated_state[:,k])\n",
    "        xhat = self.estimated_state[:,k-1]\n",
    "        Pxx = self.Pxx[:,:,k-1]\n",
    "        num_sigma_points = 2*self.model.dims_augmented_state\n",
    "        Pxx = symmetrize(Pxx)\n",
    "        xsigma = la.cholesky(self.model.dims_augmented_state*Pxx,lower=True)\n",
    "        sigma_points = np.hstack((xsigma,-xsigma))\n",
    "        for i in range(num_sigma_points):\n",
    "            sigma_points[:,i]+=xhat\n",
    "        self.sigma_points = sigma_points\n",
    "\n",
    "    def unscented_kalman(self):\n",
    "        model = self.model\n",
    "        self.set_initial_estimate()\n",
    "        for k in range(1,model.num_samples):\n",
    "            try:\n",
    "                self.voss_unscented_transform(k)\n",
    "            except la.LinAlgError:\n",
    "                self.Pxx[:,:,k-1] = self.Pxx[:,:,k-2]\n",
    "                self.voss_unscented_transform(k)\n",
    "            if model.dims_params > 0: self.Pxx[:model.dims_params,:model.dims_params,k] = self.Q\n",
    "            self.errors[:,k] = np.sqrt(np.diag(self.Pxx[:,:,k]))\n",
    "            \n",
    "    \n",
    "    def voss_unscented_transform(self,k):\n",
    "        model = self.model\n",
    "        Pxx = symmetrize(self.Pxx[:,:,k-1])\n",
    "        self.generate_sigma_points(k)\n",
    "        sigma_points = self.sigma_points\n",
    "        \n",
    "        X = model.transition_function(sigma_points)\n",
    "        Y = model.observation_function(X).reshape(1,-1)\n",
    "\n",
    "        Pxx = symmetrize(covariance(X,X))\n",
    "        Pyy = covariance(Y,Y) + self.R\n",
    "        Pxy = covariance(X,Y)\n",
    "\n",
    "        K = np.matmul(Pxy,la.inv(Pyy))\n",
    "        xhat = np.mean(X,1) + np.matmul(K,(model.noisy_data[:,k] - np.mean(Y,1)))\n",
    "\n",
    "        Pxx = symmetrize(Pxx - np.matmul(K,Pxy.T))\n",
    "        \n",
    "        self.estimated_state[:,k] = xhat\n",
    "        self.Pxx[:,:,k] = Pxx\n",
    "        self.Ks[:,:,k] = K\n",
    "    \n",
    "    def print_results(self):\n",
    "        '''Prints results of Kalman filtering.'''\n",
    "        model = self.model\n",
    "        results = {}\n",
    "        results['chisq'] = np.mean(sum((model.augmented_state - self.estimated_state)**2))\n",
    "        results['est'] = self.estimated_state[:model.dims_params,-1]\n",
    "        results['error'] = self.errors[:model.dims_params,-1]\n",
    "        results['meanest'] = np.mean(self.estimated_state[:model.dims_params,:],1)\n",
    "        results['meanerror'] = np.mean(self.errors[:model.dims_params,:],1)\n",
    "        for key,value in results.items():\n",
    "            print('{0:15s}{1}'.format(key+':',str(value)))\n",
    "        self.results = results\n",
    "        \n",
    "    def plot_filter_results(self):\n",
    "        '''Plots results of Kalman filtering'''\n",
    "        model = self.model\n",
    "        plt.rc('text', usetex=True)\n",
    "        plt.figure(figsize=(10,2))\n",
    "        for i in range(model.dims_state_vars):\n",
    "            plt.plot(model.augmented_state[model.dims_params+i,:],lw=2,label=model.var_names[i])\n",
    "            plt.plot(self.estimated_state[model.dims_params+i,:],'r--',lw=2)\n",
    "        plt.title('Estimated State Variables')\n",
    "        plt.legend()\n",
    "        plt.xlabel('t/dt')\n",
    "        plt.axis('tight')\n",
    "\n",
    "        plt.figure(figsize=(10,2))\n",
    "        for i in range(model.dims_params):\n",
    "            plt.plot(model.augmented_state[i,:],'k',linewidth=2,label=model.parameter_names[i])\n",
    "            plt.plot(self.estimated_state[i,:],'m',linewidth=2)\n",
    "            plt.plot(self.estimated_state[i,:] + self.errors[i,:],'m')\n",
    "            plt.plot(self.estimated_state[i,:] - self.errors[i,:],'m')\n",
    "        plt.title('Estimated Parameters')\n",
    "        plt.legend()\n",
    "        plt.xlabel('t/dt')\n",
    "        plt.axis('tight')\n",
    "        plt.show()"
   ]
  },
  {
   "cell_type": "code",
   "execution_count": 16,
   "metadata": {
    "collapsed": false
   },
   "outputs": [
    {
     "data": {
      "text/plain": [
       "10"
      ]
     },
     "execution_count": 16,
     "metadata": {},
     "output_type": "execute_result"
    }
   ],
   "source": [
    "int(10.//1.)"
   ]
  },
  {
   "cell_type": "code",
   "execution_count": 38,
   "metadata": {
    "collapsed": false
   },
   "outputs": [],
   "source": [
    "class epileptor_model(Model):\n",
    "    def __init__(self):\n",
    "        self._model = 'epileptor'\n",
    "        \n",
    "#     def get_num_samples(self,time,dt):\n",
    "#         return int(time//dt)\n",
    "    \n",
    "    def get_steps_per_sample(self,dt_sample,dt_integrate):\n",
    "        return int(dt_sample//dt_integrate)\n",
    "            \n",
    "    var_names = ['x1','y1','z','x2','y2','g']\n",
    "    parameter_names = ['x0']\n",
    "\n",
    "    dims_params = 1\n",
    "    dims_state_vars = 6\n",
    "    dims_observations = 1\n",
    "    dims_augmented_state = dims_params + dims_state_vars\n",
    "\n",
    "    noise = [0.025, 0., 0., 0.25, 0., 0.]\n",
    "\n",
    "    process_sigmas = [0.015]\n",
    "    observation_sigmas = [] # empty array will use sim data to generate observation_sigmas\n",
    "    Pxx0 = 'QRRRRRR'\n",
    "\n",
    "    total_time = 10 # 2500 for epileptor, 160 for FN\n",
    "    dt_sample = 0.1\n",
    "    dt_integrate = dt_sample\n",
    "    \n",
    "    __num_samples = int(total_time//dt_sample)\n",
    "    \n",
    "    def _set_dt_sample(self,dt):\n",
    "        self.__dt_sample = dt\n",
    "        self.__num_samples = self.get_num_samples()\n",
    "#     def get_num_samples()\n",
    "    \n",
    "    @property\n",
    "    def num_samples(self):\n",
    "        self.__num_samples = int(self.total_time//self.dt_sample)\n",
    "        return self.__num_samples\n",
    "    \n",
    "#     dt_sample = property(lambda(self): return self.__dt_sample,_set_dt_sample(self,dt))\n",
    "#     num_samples = get_num_samples([],total_time,dt_sample)\n",
    "    steps_per_sample = get_steps_per_sample([],dt_sample,dt_integrate)\n",
    "\n",
    "#     parameters = parameter_function(num_samples).reshape(dims_params,num_samples)\n",
    "#     def epileptor_parameters(num_samples):\n",
    "#     global y0, tau0, tau1, tau2, Irest1, Irest2, gamma, noise, initial_conditions\n",
    "\n",
    "    '''x0 is tracked parameter'''\n",
    "    x0, y0 = -1.6, 1.\n",
    "    tau0, tau1, tau2 = 2875., 1., 10.\n",
    "    Irest1, Irest2 = 3.1, 0.45\n",
    "    gamma = 0.01\n",
    "    initial_conditions = [0.,-5.,3.,0.,0.,0.]\n",
    "    noise = [0.025, 0.0, 0., .25, 0., 0.]\n",
    "    \n",
    "    x0_parameter = (x0*np.ones(__num_samples)).reshape(1,__num_samples)\n",
    "    parameters = x0_parameter\n",
    "\n",
    "    integrator = 'ruku4'\n",
    "    \n",
    "    test_prop = property(lambda self: 0)\n",
    "    \n",
    "    def fix_integration_parameters(self): \n",
    "#         self.num_samples = int(self.total_time//self.dt_sample)\n",
    "        self.num_samples = self.get_num_samples(self.total_time,self.dt_sample)\n",
    "        self.x0_parameter = (self.x0*np.ones(self.num_samples)).reshape(1,self.num_samples)\n",
    "        self.parameters = self.x0_parameter\n",
    "        self.steps_per_sample = self.get_steps_per_sample(self.dt_sample,self.dt_integrate)\n",
    "\n",
    "    def integrate(self,state,params):\n",
    "        switcher = {\n",
    "            'ruku4': ruku4,\n",
    "            'euler': euler,\n",
    "            'euler_maruyama': euler_maruyama,\n",
    "            'test_integrator': test_integrator\n",
    "        }\n",
    "        return switcher[self.integrator](self.model_function,state,params,\n",
    "                          self.dt_integrate,self.steps_per_sample,self.noise)\n",
    "    \n",
    "    def model_function(self,state,parameters):\n",
    "        x1, y1, z, x2, y2, g = state \n",
    "        x0 = parameters.reshape(x1.shape)\n",
    "        x1_dot = y1 - self.f1(x1,x2,z) - z + self.Irest1\n",
    "        y1_dot = self.y0 - 5.*x1*x1 - y1\n",
    "        z_dot = 1/self.tau0*(4*(x1 - x0) - z)\n",
    "        x2_dot = -y2 + x2 - x2**3 + self.Irest2 + 2.*g - 0.3*(z - 3.5)\n",
    "        y2_dot = 1/self.tau2*(-y2 + self.f2(x2))\n",
    "        g_dot = -self.gamma*(g - 0.1*x1)\n",
    "        return np.array([x1_dot, y1_dot, z_dot, x2_dot, y2_dot, g_dot])\n",
    "    \n",
    "    def observation_function(self,augmented_state):\n",
    "        x1 = augmented_state[self.dims_params,:]\n",
    "        x2 = augmented_state[self.dims_params+3,:]\n",
    "        return -x1 + x2\n",
    "    \n",
    "    def set_initial_estimate(self,initial_estimate):\n",
    "        x1 = self.noisy_data[0,0]/2.\n",
    "        x2 = self.noisy_data[0,0]/2. + x1\n",
    "        initial_estimate[self.dims_params] = x1\n",
    "        initial_estimate[self.dims_params+3] = x2\n",
    "        return initial_estimate\n",
    "\n",
    "    def transition_function(self, augmented_state):\n",
    "        parameters, state = np.split(augmented_state,[self.dims_params,])\n",
    "        state = ruku4(self.model_function,state,parameters,self.dt_integrate,\n",
    "                      self.steps_per_sample,self.noise)\n",
    "        return np.vstack((parameters,state))\n",
    "\n",
    "    def f1(self,x1,x2,z):\n",
    "        return ( x1**3 - 3*x1**2 ) * (x1 < 0) + ( x1*(x2 - 0.6*(z-4)**2) ) * (x1 >=0)\n",
    "\n",
    "    def f2(self,x2):\n",
    "        return 0 * (x2 < -0.25) + ( 6*(x2 + 0.25) ) * (x2 >= -0.25)\n",
    "    "
   ]
  },
  {
   "cell_type": "code",
   "execution_count": 39,
   "metadata": {
    "collapsed": false,
    "scrolled": true
   },
   "outputs": [
    {
     "data": {
      "image/png": "[encoded data removed]",
      "text/plain": [
       "<matplotlib.figure.Figure at 0x10e117b70>"
      ]
     },
     "metadata": {},
     "output_type": "display_data"
    }
   ],
   "source": [
    "p = epileptor_model()\n",
    "p.generate_simulation()\n",
    "# plt.plot(p.noisy_data.T)"
   ]
  },
  {
   "cell_type": "code",
   "execution_count": 40,
   "metadata": {
    "collapsed": false
   },
   "outputs": [
    {
     "data": {
      "text/plain": [
       "0"
      ]
     },
     "execution_count": 40,
     "metadata": {},
     "output_type": "execute_result"
    }
   ],
   "source": [
    "p.test_prop\n",
    "# p.num_samples"
   ]
  },
  {
   "cell_type": "code",
   "execution_count": 97,
   "metadata": {
    "collapsed": false
   },
   "outputs": [],
   "source": [
    "kf = unscented_kalman_filter(p)"
   ]
  },
  {
   "cell_type": "code",
   "execution_count": 98,
   "metadata": {
    "collapsed": false
   },
   "outputs": [],
   "source": [
    "kf.unscented_kalman()"
   ]
  },
  {
   "cell_type": "code",
   "execution_count": 99,
   "metadata": {
    "collapsed": false
   },
   "outputs": [
    {
     "data": {
      "image/png": "[encoded data removed]",
      "text/plain": [
       "<matplotlib.figure.Figure at 0x10e2452e8>"
      ]
     },
     "metadata": {},
     "output_type": "display_data"
    },
    {
     "data": {
      "image/png": "[encoded data removed]",
      "text/plain": [
       "<matplotlib.figure.Figure at 0x10e24ec88>"
      ]
     },
     "metadata": {},
     "output_type": "display_data"
    }
   ],
   "source": [
    "kf.plot_filter_results()"
   ]
  },
  {
   "cell_type": "raw",
   "metadata": {
    "collapsed": false
   },
   "source": [
    "def set_covariances(process_sigmas,observation_sigmas,Pxx0):\n",
    "    sigmas = {}\n",
    "    sigmas['Q'] = process_sigmas\n",
    "    sigmas['R'] = observation_sigmas\n",
    "    Pxx_init = []\n",
    "    for n in Pxx0:\n",
    "        Pxx_init = np.hstack((Pxx_init,sigmas[n]))\n",
    "    Pxx_init = np.diag(Pxx_init)\n",
    "    return np.diag(sigmas['Q']), np.diag(sigmas['R']), Pxx_init\n",
    "\n",
    "\n",
    "# def process_noise(sigmas):\n",
    "#     return np.diag(sigmas)\n",
    "\n",
    "# def observation_noise(sigmas=-1, data=np.random.randn(100)):\n",
    "#     dims = 1 if data.ndim == 1 else data.shape[0]\n",
    "#     return np.diag(sigmas) if sigmas!=-1 else 0.2*0.2*np.var(data)*np.eye(dims)"
   ]
  },
  {
   "cell_type": "raw",
   "metadata": {
    "collapsed": true
   },
   "source": [
    "def vossFNint(state,parameters):\n",
    "    '''Fitzhugh-Nagumo model'''\n",
    "    v, w = state\n",
    "    input_current = parameters\n",
    "    input_current = input_current.reshape(v.shape)\n",
    "    return np.array([c*(w+v-v**3/3+input_current), -(v-a+b*w)/c]);\n",
    "\n",
    "def vossFNobsfct(augmented_state):\n",
    "    return augmented_state[-2,:].reshape(1,len(augmented_state[1,:]))\n",
    "\n",
    "def vossFNfct(dims_params, augmented_state):\n",
    "    parameters, state = np.split(augmented_state,[dims_params,])\n",
    "    state = ruku4(vossFNint,state,parameters,dt_integrate,steps_per_sample)\n",
    "    return np.vstack((parameters,state))\n",
    "    \n",
    "def vossFNparams(num_samples):\n",
    "    global a, b, c, initial_conditions\n",
    "    a, b, c = 0.7, 0.8, 3.\n",
    "    initial_conditions = [0., 0.]\n",
    "    \n",
    "    Iext = np.arange(1,num_samples+1)/250.*2*np.pi\n",
    "    Iext = -0.4 - 1.01*(np.abs(np.sin(Iext/2.)))\n",
    "#     a = 0.7*np.ones_like(Iext)\n",
    "#     parameters = np.vstack((Iext,a))\n",
    "    parameters = np.vstack((Iext))\n",
    "    return parameters.reshape(1,num_samples)\n"
   ]
  },
  {
   "cell_type": "raw",
   "metadata": {
    "collapsed": false
   },
   "source": [
    "# epileptor parameters; x0 is tracked\n",
    "def epileptor_parameters(num_samples):\n",
    "    global y0, tau0, tau1, tau2, Irest1, Irest2, gamma, noise, initial_conditions\n",
    "    '''x0 is tracked parameter'''\n",
    "    x0, y0 = -1.6, 1.\n",
    "    tau0, tau1, tau2 = 2875., 1., 10.\n",
    "    Irest1, Irest2 = 3.1, 0.45\n",
    "    gamma = 0.01\n",
    "    initial_conditions = [0.,-5.,3.,0.,0.,0.]\n",
    "    noise = [0.025, 0.0, 0., .25, 0., 0.]\n",
    "    \n",
    "    time_varying_parameters = x0*np.ones(num_samples)\n",
    "    return time_varying_parameters.reshape(1,num_samples)\n",
    "\n",
    "def epileptor_model(state,parameters):\n",
    "    x1, y1, z, x2, y2, g = state \n",
    "    x0 = parameters.reshape(x1.shape)\n",
    "    x1_dot = y1 - f1(x1,x2,z) - z + Irest1\n",
    "    y1_dot = y0 - 5.*x1*x1 - y1\n",
    "    z_dot = 1/tau0*(4*(x1 - x0) - z)\n",
    "    x2_dot = -y2 + x2 - x2**3 + Irest2 + 2.*g - 0.3*(z - 3.5)\n",
    "    y2_dot = 1/tau2*(-y2 + f2(x2))\n",
    "    g_dot = -gamma*(g - 0.1*x1)\n",
    "    return np.array([x1_dot, y1_dot, z_dot, x2_dot, y2_dot, g_dot])\n",
    "\n",
    "def epileptor_observation_function(p,augmented_state):\n",
    "    x1 = augmented_state[p.dims_params,:]\n",
    "    x2 = augmented_state[p.dims_params+3,:]\n",
    "    return -x1 + x2\n",
    "\n",
    "def epileptor_transition_function(p, num_params, augmented_state):\n",
    "    parameters, state = np.split(augmented_state,[num_params,])\n",
    "    state = ruku4(epileptor_model,state,parameters,p.dt_integrate,p.steps_per_sample,p.noise)\n",
    "    return np.vstack((parameters,state))\n",
    "\n",
    "def f1(x1,x2,z):\n",
    "    return ( x1**3 - 3*x1**2 ) * (x1 < 0) + ( x1*(x2 - 0.6*(z-4)**2) ) * (x1 >=0)\n",
    "\n",
    "def f2(x2):\n",
    "    return 0 * (x2 < -0.25) + ( 6*(x2 + 0.25) ) * (x2 >= -0.25)\n"
   ]
  },
  {
   "cell_type": "raw",
   "metadata": {},
   "source": [
    "# Set parameters for simulation and filtering\n",
    "\n",
    "# model_function = epileptor_model\n",
    "# transition_function = epileptor_transition_function\n",
    "# observation_function = epileptor_observation_function\n",
    "# parameter_function = epileptor_parameters\n",
    "\n",
    "# integrator = ruku4"
   ]
  },
  {
   "cell_type": "raw",
   "metadata": {
    "collapsed": false
   },
   "source": [
    "def unscented_kalman(p=epileptor_model()):\n",
    "    '''Uses global vars for now'''\n",
    "    global estimated_state, Pxx, Ks, errors        \n",
    "    for k in range(1,p.num_samples):\n",
    "        try:\n",
    "            estimated_state[:,k],Pxx[:,:,k],Ks[:,:,k] = voss_unscented_transform(p,\n",
    "                estimated_state[:,k-1],p.Pxx[:,:,k-1],p.noisy_data[:,k],\n",
    "                transition_function,observation_function,p.dims_params,p.dims_augmented_state,\n",
    "                p.dims_observations, R)\n",
    "        except la.LinAlgError:\n",
    "            Pxx[:,:,k-1] = Pxx[:,:,k-2]\n",
    "            estimated_state[:,k],Pxx[:,:,k],Ks[:,:,k] = voss_unscented_transform(p,\n",
    "                estimated_state[:,k-1],Pxx[:,:,k-1],noisy_data[:,k],\n",
    "                transition_function,observation_function,p.dims_params,p.dims_augmented_state,\n",
    "                p.dims_observations, R)\n",
    "        if dims_params > 0: Pxx[:p.dims_params,:p.dims_params,k] = Q\n",
    "        errors[:,k] = np.sqrt(np.diag(Pxx[:,:,k]))\n",
    "    \n",
    "        \n",
    "def print_results(p,augmented_state,estimated_state):\n",
    "    '''Prints results of Kalman filtering.'''\n",
    "    results = {}\n",
    "    results['chisq'] = np.mean(sum((augmented_state - estimated_state)**2))\n",
    "    results['est'] = estimated_state[:p.dims_params,-1]\n",
    "    results['error'] = errors[:p.dims_params,-1]\n",
    "    results['meanest'] = np.mean(estimated_state[:p.dims_params,:],1)\n",
    "    results['meanerror'] = np.mean(errors[:p.dims_params,:],1)\n",
    "    for key,value in results.items():\n",
    "        print('{0:15s}{1}'.format(key+':',str(value)))\n",
    "    return results\n",
    "\n",
    "def plot_simulated_data(p=epileptor_model()):\n",
    "    '''Plot simulation'''\n",
    "    plt.rc('text', usetex=True)\n",
    "    plt.figure(figsize=(10,2))\n",
    "    plt.plot(noisy_data[0,:],'bd',markeredgecolor='blue', mfc='blue',ms=3,label='noisy data');\n",
    "    plt.plot(observation_function(p,augmented_state).T,'k',linewidth=2,label='actual'); \n",
    "    plt.xlabel('t');\n",
    "    plt.legend();\n",
    "    plt.axis('tight')\n",
    "    plt.title('Simulation')\n",
    "        \n",
    "def plot_filter_results(p=epileptor_model()):\n",
    "    '''Plots results of Kalman filtering'''\n",
    "    plt.rc('text', usetex=True)\n",
    "    plt.figure(figsize=(10,2))\n",
    "    for i in range(p.dims_state_vars):\n",
    "        plt.plot(augmented_state[p.dims_params+i,:],lw=2,label=p.var_names[i])\n",
    "        plt.plot(estimated_state[p.dims_params+i,:],'r--',lw=2)\n",
    "    plt.title('Estimated State Variables')\n",
    "    plt.legend()\n",
    "    plt.xlabel('t/dt')\n",
    "    plt.axis('tight')\n",
    "\n",
    "    plt.figure(figsize=(10,2))\n",
    "    for i in range(p.dims_params):\n",
    "        plt.plot(augmented_state[i,:],'k',linewidth=2,label=p.parameter_names[i])\n",
    "        plt.plot(estimated_state[i,:],'m',linewidth=2)\n",
    "        plt.plot(estimated_state[i,:] + errors[i,:],'m')\n",
    "        plt.plot(estimated_state[i,:] - errors[i,:],'m')\n",
    "    plt.title('Estimated Parameters')\n",
    "    plt.legend()\n",
    "    plt.xlabel('t/dt')\n",
    "    plt.axis('tight')\n",
    "    plt.show()"
   ]
  },
  {
   "cell_type": "raw",
   "metadata": {
    "collapsed": false
   },
   "source": [
    "# # Generate true trajectory \n",
    "# def integrate_model(p):\n",
    "#     true_state = np.zeros((len(p.initial_conditions),p.num_samples)) # allocate\n",
    "#     true_state[:,0] = p.initial_conditions\n",
    "#     for n in range(p.num_samples-1):\n",
    "#         x_temp = true_state[:,n]\n",
    "#         true_state[:,n+1] = p.integrate(state=x_temp, params=p.parameters[:,n])      \n",
    "#     return true_state"
   ]
  },
  {
   "cell_type": "raw",
   "metadata": {
    "collapsed": false
   },
   "source": [
    "# def generate_simulation(p,plot=True):\n",
    "#     '''\n",
    "#     Simulates true and noisy trajectory based on previously \n",
    "#     defined model and parameter functions\n",
    "#     (Uses global vars)\n",
    "#     '''\n",
    "#     global observation_sigmas, parameters, augmented_state, Q, R, Pxx, noisy_data\n",
    "    \n",
    "#     # Simulate model\n",
    "#     true_state = integrate_model(p)\n",
    "#     augmented_state = np.vstack((p.parameters*np.ones((p.dims_params,p.num_samples)),true_state)) if p.dims_params > 0 else true_state\n",
    "#     dims_augmented_state = p.dims_params+p.dims_state_vars\n",
    "#     Pxx = np.zeros((dims_augmented_state,dims_augmented_state,p.num_samples))\n",
    "    \n",
    "#     # Covariances\n",
    "#     if not p.observation_sigmas:\n",
    "#         p.observation_sigmas = [0.2*0.2*np.var(observation_function(p,augmented_state))]\n",
    "#     Q, R, Pxx[:,:,0] = set_covariances(p.process_sigmas, p.observation_sigmas, p.Pxx0)\n",
    "\n",
    "#     # Create noisy data from true trajectory\n",
    "#     noisy_data = observation_function(p,augmented_state) + np.matmul(la.sqrtm(R),\n",
    "#                                        np.random.randn(p.dims_observations,p.num_samples))\n",
    "\n",
    "#     if plot: plot_simulated_data()"
   ]
  },
  {
   "cell_type": "code",
   "execution_count": 12,
   "metadata": {
    "collapsed": false
   },
   "outputs": [
    {
     "ename": "TypeError",
     "evalue": "__init__() takes 1 positional argument but 3 were given",
     "output_type": "error",
     "traceback": [
      "\u001b[0;31m---------------------------------------------------------------------------\u001b[0m",
      "\u001b[0;31mTypeError\u001b[0m                                 Traceback (most recent call last)",
      "\u001b[0;32m<ipython-input-12-37b551b1f8d5>\u001b[0m in \u001b[0;36m<module>\u001b[0;34m()\u001b[0m\n\u001b[1;32m     18\u001b[0m \u001b[0;34m\u001b[0m\u001b[0m\n\u001b[1;32m     19\u001b[0m \u001b[0;31m# Main loop for recursive estimation\u001b[0m\u001b[0;34m\u001b[0m\u001b[0;34m\u001b[0m\u001b[0m\n\u001b[0;32m---> 20\u001b[0;31m \u001b[0munscented_kalman\u001b[0m\u001b[0;34m(\u001b[0m\u001b[0mp\u001b[0m\u001b[0;34m)\u001b[0m\u001b[0;34m\u001b[0m\u001b[0m\n\u001b[0m\u001b[1;32m     21\u001b[0m \u001b[0;34m\u001b[0m\u001b[0m\n\u001b[1;32m     22\u001b[0m \u001b[0;31m# Results\u001b[0m\u001b[0;34m\u001b[0m\u001b[0;34m\u001b[0m\u001b[0m\n",
      "\u001b[0;32m<ipython-input-7-ff33b7365657>\u001b[0m in \u001b[0;36munscented_kalman\u001b[0;34m(p)\u001b[0m\n\u001b[1;32m      7\u001b[0m                 \u001b[0mestimated_state\u001b[0m\u001b[0;34m[\u001b[0m\u001b[0;34m:\u001b[0m\u001b[0;34m,\u001b[0m\u001b[0mk\u001b[0m\u001b[0;34m-\u001b[0m\u001b[0;36m1\u001b[0m\u001b[0;34m]\u001b[0m\u001b[0;34m,\u001b[0m\u001b[0mPxx\u001b[0m\u001b[0;34m[\u001b[0m\u001b[0;34m:\u001b[0m\u001b[0;34m,\u001b[0m\u001b[0;34m:\u001b[0m\u001b[0;34m,\u001b[0m\u001b[0mk\u001b[0m\u001b[0;34m-\u001b[0m\u001b[0;36m1\u001b[0m\u001b[0;34m]\u001b[0m\u001b[0;34m,\u001b[0m\u001b[0mnoisy_data\u001b[0m\u001b[0;34m[\u001b[0m\u001b[0;34m:\u001b[0m\u001b[0;34m,\u001b[0m\u001b[0mk\u001b[0m\u001b[0;34m]\u001b[0m\u001b[0;34m,\u001b[0m\u001b[0;34m\u001b[0m\u001b[0m\n\u001b[1;32m      8\u001b[0m                 \u001b[0mtransition_function\u001b[0m\u001b[0;34m,\u001b[0m\u001b[0mobservation_function\u001b[0m\u001b[0;34m,\u001b[0m\u001b[0mp\u001b[0m\u001b[0;34m.\u001b[0m\u001b[0mdims_params\u001b[0m\u001b[0;34m,\u001b[0m\u001b[0mp\u001b[0m\u001b[0;34m.\u001b[0m\u001b[0mdims_augmented_state\u001b[0m\u001b[0;34m,\u001b[0m\u001b[0;34m\u001b[0m\u001b[0m\n\u001b[0;32m----> 9\u001b[0;31m                 p.dims_observations, R)\n\u001b[0m\u001b[1;32m     10\u001b[0m         \u001b[0;32mexcept\u001b[0m \u001b[0mla\u001b[0m\u001b[0;34m.\u001b[0m\u001b[0mLinAlgError\u001b[0m\u001b[0;34m:\u001b[0m\u001b[0;34m\u001b[0m\u001b[0m\n\u001b[1;32m     11\u001b[0m             \u001b[0mPxx\u001b[0m\u001b[0;34m[\u001b[0m\u001b[0;34m:\u001b[0m\u001b[0;34m,\u001b[0m\u001b[0;34m:\u001b[0m\u001b[0;34m,\u001b[0m\u001b[0mk\u001b[0m\u001b[0;34m-\u001b[0m\u001b[0;36m1\u001b[0m\u001b[0;34m]\u001b[0m \u001b[0;34m=\u001b[0m \u001b[0mPxx\u001b[0m\u001b[0;34m[\u001b[0m\u001b[0;34m:\u001b[0m\u001b[0;34m,\u001b[0m\u001b[0;34m:\u001b[0m\u001b[0;34m,\u001b[0m\u001b[0mk\u001b[0m\u001b[0;34m-\u001b[0m\u001b[0;36m2\u001b[0m\u001b[0;34m]\u001b[0m\u001b[0;34m\u001b[0m\u001b[0m\n",
      "\u001b[0;32m<ipython-input-2-38dd390b35a2>\u001b[0m in \u001b[0;36mvoss_unscented_transform\u001b[0;34m(p, xhat, Pxx, noisy_data, fct, obsfct, dims_params, dims_augmented_state, dims_observations, R)\u001b[0m\n\u001b[1;32m      7\u001b[0m \u001b[0;34m\u001b[0m\u001b[0m\n\u001b[1;32m      8\u001b[0m     \u001b[0mXa\u001b[0m \u001b[0;34m=\u001b[0m \u001b[0mgenerate_sigma_points\u001b[0m\u001b[0;34m(\u001b[0m\u001b[0mxhat\u001b[0m\u001b[0;34m,\u001b[0m\u001b[0mPxx\u001b[0m\u001b[0;34m)\u001b[0m\u001b[0;34m\u001b[0m\u001b[0m\n\u001b[0;32m----> 9\u001b[0;31m     \u001b[0mX\u001b[0m \u001b[0;34m=\u001b[0m \u001b[0mfct\u001b[0m\u001b[0;34m(\u001b[0m\u001b[0mp\u001b[0m\u001b[0;34m,\u001b[0m\u001b[0mdims_params\u001b[0m\u001b[0;34m,\u001b[0m\u001b[0mXa\u001b[0m\u001b[0;34m)\u001b[0m\u001b[0;34m\u001b[0m\u001b[0m\n\u001b[0m\u001b[1;32m     10\u001b[0m     \u001b[0mY\u001b[0m \u001b[0;34m=\u001b[0m \u001b[0mobsfct\u001b[0m\u001b[0;34m(\u001b[0m\u001b[0mp\u001b[0m\u001b[0;34m,\u001b[0m\u001b[0mX\u001b[0m\u001b[0;34m)\u001b[0m\u001b[0;34m.\u001b[0m\u001b[0mreshape\u001b[0m\u001b[0;34m(\u001b[0m\u001b[0;36m1\u001b[0m\u001b[0;34m,\u001b[0m\u001b[0;34m-\u001b[0m\u001b[0;36m1\u001b[0m\u001b[0;34m)\u001b[0m\u001b[0;34m\u001b[0m\u001b[0m\n\u001b[1;32m     11\u001b[0m \u001b[0;34m\u001b[0m\u001b[0m\n",
      "\u001b[0;32m<ipython-input-5-2c4bc74630a5>\u001b[0m in \u001b[0;36mepileptor_transition_function\u001b[0;34m(p, num_params, augmented_state)\u001b[0m\n\u001b[1;32m     31\u001b[0m \u001b[0;32mdef\u001b[0m \u001b[0mepileptor_transition_function\u001b[0m\u001b[0;34m(\u001b[0m\u001b[0mp\u001b[0m\u001b[0;34m,\u001b[0m \u001b[0mnum_params\u001b[0m\u001b[0;34m,\u001b[0m \u001b[0maugmented_state\u001b[0m\u001b[0;34m)\u001b[0m\u001b[0;34m:\u001b[0m\u001b[0;34m\u001b[0m\u001b[0m\n\u001b[1;32m     32\u001b[0m     \u001b[0mparameters\u001b[0m\u001b[0;34m,\u001b[0m \u001b[0mstate\u001b[0m \u001b[0;34m=\u001b[0m \u001b[0mnp\u001b[0m\u001b[0;34m.\u001b[0m\u001b[0msplit\u001b[0m\u001b[0;34m(\u001b[0m\u001b[0maugmented_state\u001b[0m\u001b[0;34m,\u001b[0m\u001b[0;34m[\u001b[0m\u001b[0mnum_params\u001b[0m\u001b[0;34m,\u001b[0m\u001b[0;34m]\u001b[0m\u001b[0;34m)\u001b[0m\u001b[0;34m\u001b[0m\u001b[0m\n\u001b[0;32m---> 33\u001b[0;31m     \u001b[0mstate\u001b[0m \u001b[0;34m=\u001b[0m \u001b[0mruku4\u001b[0m\u001b[0;34m(\u001b[0m\u001b[0mepileptor_model\u001b[0m\u001b[0;34m,\u001b[0m\u001b[0mstate\u001b[0m\u001b[0;34m,\u001b[0m\u001b[0mparameters\u001b[0m\u001b[0;34m,\u001b[0m\u001b[0mp\u001b[0m\u001b[0;34m.\u001b[0m\u001b[0mdt_integrate\u001b[0m\u001b[0;34m,\u001b[0m\u001b[0mp\u001b[0m\u001b[0;34m.\u001b[0m\u001b[0msteps_per_sample\u001b[0m\u001b[0;34m,\u001b[0m\u001b[0mp\u001b[0m\u001b[0;34m.\u001b[0m\u001b[0mnoise\u001b[0m\u001b[0;34m)\u001b[0m\u001b[0;34m\u001b[0m\u001b[0m\n\u001b[0m\u001b[1;32m     34\u001b[0m     \u001b[0;32mreturn\u001b[0m \u001b[0mnp\u001b[0m\u001b[0;34m.\u001b[0m\u001b[0mvstack\u001b[0m\u001b[0;34m(\u001b[0m\u001b[0;34m(\u001b[0m\u001b[0mparameters\u001b[0m\u001b[0;34m,\u001b[0m\u001b[0mstate\u001b[0m\u001b[0;34m)\u001b[0m\u001b[0;34m)\u001b[0m\u001b[0;34m\u001b[0m\u001b[0m\n\u001b[1;32m     35\u001b[0m \u001b[0;34m\u001b[0m\u001b[0m\n",
      "\u001b[0;32m<ipython-input-2-38dd390b35a2>\u001b[0m in \u001b[0;36mruku4\u001b[0;34m(function, state, params, dt, steps, noise)\u001b[0m\n\u001b[1;32m     52\u001b[0m     \u001b[0mstate\u001b[0m \u001b[0;34m+=\u001b[0m \u001b[0mnp\u001b[0m\u001b[0;34m.\u001b[0m\u001b[0marray\u001b[0m\u001b[0;34m(\u001b[0m\u001b[0;34m[\u001b[0m\u001b[0mn\u001b[0m\u001b[0;34m*\u001b[0m\u001b[0mnp\u001b[0m\u001b[0;34m.\u001b[0m\u001b[0mrandom\u001b[0m\u001b[0;34m.\u001b[0m\u001b[0mrandn\u001b[0m\u001b[0;34m(\u001b[0m\u001b[0mlen\u001b[0m\u001b[0;34m(\u001b[0m\u001b[0mn\u001b[0m\u001b[0;34m)\u001b[0m\u001b[0;34m)\u001b[0m\u001b[0;34m*\u001b[0m\u001b[0mnp\u001b[0m\u001b[0;34m.\u001b[0m\u001b[0msqrt\u001b[0m\u001b[0;34m(\u001b[0m\u001b[0mdt\u001b[0m\u001b[0;34m)\u001b[0m \u001b[0;32mfor\u001b[0m \u001b[0mn\u001b[0m \u001b[0;32min\u001b[0m \u001b[0mnoise\u001b[0m\u001b[0;34m]\u001b[0m\u001b[0;34m)\u001b[0m\u001b[0;34m.\u001b[0m\u001b[0mreshape\u001b[0m\u001b[0;34m(\u001b[0m\u001b[0mstate\u001b[0m\u001b[0;34m.\u001b[0m\u001b[0mshape\u001b[0m\u001b[0;34m)\u001b[0m\u001b[0;34m\u001b[0m\u001b[0m\n\u001b[1;32m     53\u001b[0m     \u001b[0;32mfor\u001b[0m \u001b[0mi\u001b[0m \u001b[0;32min\u001b[0m \u001b[0mrange\u001b[0m\u001b[0;34m(\u001b[0m\u001b[0msteps\u001b[0m\u001b[0;34m)\u001b[0m\u001b[0;34m:\u001b[0m\u001b[0;34m\u001b[0m\u001b[0m\n\u001b[0;32m---> 54\u001b[0;31m         \u001b[0mk1\u001b[0m \u001b[0;34m=\u001b[0m \u001b[0mdt\u001b[0m\u001b[0;34m*\u001b[0m\u001b[0mfunction\u001b[0m\u001b[0;34m(\u001b[0m\u001b[0mstate\u001b[0m\u001b[0;34m,\u001b[0m\u001b[0mparams\u001b[0m\u001b[0;34m)\u001b[0m\u001b[0;34m\u001b[0m\u001b[0m\n\u001b[0m\u001b[1;32m     55\u001b[0m         \u001b[0mk2\u001b[0m \u001b[0;34m=\u001b[0m \u001b[0mdt\u001b[0m\u001b[0;34m*\u001b[0m\u001b[0mfunction\u001b[0m\u001b[0;34m(\u001b[0m\u001b[0mstate\u001b[0m\u001b[0;34m+\u001b[0m\u001b[0mk1\u001b[0m\u001b[0;34m/\u001b[0m\u001b[0;36m2\u001b[0m\u001b[0;34m,\u001b[0m\u001b[0mparams\u001b[0m\u001b[0;34m)\u001b[0m\u001b[0;34m\u001b[0m\u001b[0m\n\u001b[1;32m     56\u001b[0m         \u001b[0mk3\u001b[0m \u001b[0;34m=\u001b[0m \u001b[0mdt\u001b[0m\u001b[0;34m*\u001b[0m\u001b[0mfunction\u001b[0m\u001b[0;34m(\u001b[0m\u001b[0mstate\u001b[0m\u001b[0;34m+\u001b[0m\u001b[0mk2\u001b[0m\u001b[0;34m/\u001b[0m\u001b[0;36m2\u001b[0m\u001b[0;34m,\u001b[0m\u001b[0mparams\u001b[0m\u001b[0;34m)\u001b[0m\u001b[0;34m\u001b[0m\u001b[0m\n",
      "\u001b[0;31mTypeError\u001b[0m: __init__() takes 1 positional argument but 3 were given"
     ]
    }
   ],
   "source": [
    "# Unscented Kalman Filter\n",
    "num_samples = p.num_samples\n",
    "dims_observations = p.dims_observations\n",
    "dims_params = p.dims_params\n",
    "dims_augmented_state = p.dims_augmented_state\n",
    "\n",
    "# Preallocate arrays\n",
    "estimated_state = np.zeros((dims_augmented_state,num_samples)) # estimated trajectory\n",
    "errors = np.zeros((dims_augmented_state, num_samples))\n",
    "Ks = np.zeros((dims_augmented_state,dims_observations,num_samples))\n",
    "\n",
    "# Initialize estimated state\n",
    "estimated_state[:,0] = augmented_state[:,0]\n",
    "# r = 6\n",
    "# estimated_state[:,0] = -r/2. + np.random.randint(1,r,augmented_state[:,0].shape) + augmented_state[:,0]\n",
    "# estimated_state[dims_params,0] = noisy_data[0,0]/2.\n",
    "# estimated_state[dims_params+3,0] = noisy_data[0,0]/2. + estimated_state[dims_params,0]\n",
    "\n",
    "# Main loop for recursive estimation\n",
    "unscented_kalman(p)\n",
    "\n",
    "# Results\n",
    "print_results(p,augmented_state,estimated_state)\n",
    "\n",
    "# Plotting\n",
    "plot_filter_results(p)"
   ]
  },
  {
   "cell_type": "code",
   "execution_count": null,
   "metadata": {
    "collapsed": false
   },
   "outputs": [],
   "source": [
    "# Test: mean_center \n",
    "A = np.random.randn(3,4)\n",
    "A0 = mean_center(A)\n",
    "assert np.allclose(np.mean(A0,1),0)\n",
    "\n",
    "# Test: symmetrize\n",
    "A = np.random.randn(3,3)\n",
    "assert (symmetrize(A) == np.transpose(symmetrize(A))).all()\n",
    "\n",
    "# Test: covariance\n",
    "A = np.array(np.random.randn(2,10))\n",
    "B = np.array(np.random.randn(1,10))\n",
    "assert np.allclose(covariance(A,A),np.cov(A,bias=True))\n",
    "\n",
    "# Test: generate_sigma_points\n"
   ]
  }
 ],
 "metadata": {
  "anaconda-cloud": {},
  "kernelspec": {
   "display_name": "Python 3",
   "language": "python",
   "name": "python3"
  },
  "language_info": {
   "codemirror_mode": {
    "name": "ipython",
    "version": 3
   },
   "file_extension": ".py",
   "mimetype": "text/x-python",
   "name": "python",
   "nbconvert_exporter": "python",
   "pygments_lexer": "ipython3",
   "version": "3.5.1"
  }
 },
 "nbformat": 4,
 "nbformat_minor": 1
}
