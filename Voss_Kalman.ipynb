{
 "cells": [
  {
   "cell_type": "code",
   "execution_count": 38,
   "metadata": {
    "collapsed": true
   },
   "outputs": [],
   "source": [
    "import numpy as np\n",
    "from scipy import linalg as la\n",
    "import matplotlib.pyplot as plt\n",
    "%matplotlib inline"
   ]
  },
  {
   "cell_type": "code",
   "execution_count": 74,
   "metadata": {
    "collapsed": false
   },
   "outputs": [
    {
     "name": "stdout",
     "output_type": "stream",
     "text": [
      "[ -3.70074342e-17   7.40148683e-17   7.40148683e-17   1.11022302e-16]\n"
     ]
    }
   ],
   "source": [
    "A = np.random.rand(3,4)\n",
    "# print(np.matmul(np.array(,range(4)),np.ones_like(A[0,:])))\n",
    "Amean = np.mean(A,0)\n",
    "A_mc = np.array([Acol - Amean for Acol in A])\n",
    "print(np.mean(A_mc,0))"
   ]
  },
  {
   "cell_type": "code",
   "execution_count": 35,
   "metadata": {
    "collapsed": false
   },
   "outputs": [
    {
     "data": {
      "text/plain": [
       "4"
      ]
     },
     "execution_count": 35,
     "metadata": {},
     "output_type": "execute_result"
    }
   ],
   "source": [
    "def test_fun(x):\n",
    "    return 2*x\n",
    "\n",
    "f = test_fun\n",
    "f(2)"
   ]
  },
  {
   "cell_type": "code",
   "execution_count": null,
   "metadata": {
    "collapsed": true
   },
   "outputs": [],
   "source": []
  },
  {
   "cell_type": "code",
   "execution_count": 27,
   "metadata": {
    "collapsed": false
   },
   "outputs": [
    {
     "data": {
      "image/png": "[encoded data removed]",
      "text/plain": [
       "<matplotlib.figure.Figure at 0x109ce2a20>"
      ]
     },
     "metadata": {},
     "output_type": "display_data"
    }
   ],
   "source": [
    "# voss.m function translated from schiff, ch5, p.110\n",
    "dims_params = 1 # dq\n",
    "dims_augmented_state, dims_observations = dims_params+2, 1 # dx, dy\n",
    "fct = vossFNfct\n",
    "obsfct = vossFNobsfct\n",
    "num_samples = 800\n",
    "dt_sample = 0.2\n",
    "dt_integrate = dt_sample\n",
    "steps_per_sample = dt_sample//dt_integrate\n",
    "\n",
    "# Preallocate arrays\n",
    "x0 = np.zeros((2,num_samples)) # true trajectory\n",
    "xhat = np.zeros((dims_augmented_state,num_samples)) # estimated trajectory\n",
    "Pxx = np.zeros((dims_augmented_state,dims_augmented_state,num_samples)) # covariance in x\n",
    "errors = np.zeros((dims_augmented_state, num_samples))\n",
    "Ks = np.zeros((dims_augmented_state,dims_observations,num_samples))\n",
    "\n",
    "# Initial conditions\n",
    "x0[:,0] = [0.,0.]\n",
    "\n",
    "# External input current, estimated as parameter p later\n",
    "Iext = np.arange(1,num_samples+1)/250.*2*np.pi\n",
    "Iext = -0.4 - 1.01*(np.abs(np.sin(Iext/2.)))\n",
    "# plt.plot(Iext)\n",
    "# plt.show()\n",
    "\n",
    "# RuKu4 integrator\n",
    "for n in range(num_samples-1):\n",
    "    x_temp = x0[:,n]\n",
    "    for i in range(steps_per_sample):\n",
    "        k1 = dt*vossFNint(x_temp,Iext[n])\n",
    "        k2 = dt*vossFNint(x_temp+k1/2,Iext[n])\n",
    "        k3 = dt*vossFNint(x_temp+k2/2,Iext[n])\n",
    "        k4 = dt*vossFNint(x_temp+k3,Iext[n])\n",
    "        x_temp += k1/6. + k2/3. + k3/3. + k4/6.\n",
    "    x0[:,n+1] = x_temp\n",
    "    \n",
    "augmented_state = np.vstack((Iext,x0))\n",
    "xhat[:,0] = augmented_state[:,0]\n",
    "\n",
    "# Covariances\n",
    "process_noise = 0.015\n",
    "observation_noise = 0.2*0.2*np.var(vossFNobsfct(augmented_state))*np.eye(dims_observations)\n",
    "\n",
    "noisy_data = obsfct(x) + np.matmul(la.sqrtm(observation_noise),\n",
    "                                   np.random.randn((dims_observations,num_samples)))\n",
    "Pxx[:,:,0] = la.block_diag(process_noise,observation_noise,observation_noise)\n",
    "\n",
    "# Main loop for recursive estimation\n",
    "for k in range(1,num_samples):\n",
    "    xhat[:,k],Pxx[:,k],Ks[:,:,k] = voss_unscented_transform(xhat[:,k-1],Pxx[:,:,k-1],noisy_data[:,k]\n",
    "                                         fct,obsfct,dims_params,dims_augmented_state,\n",
    "                                         dims_observations, observation_noise)\n",
    "    Pxx[0,0,k] = process_noise\n",
    "    errors[:,k] = np.sqrt(np.diag(Pxx[:,:,k]))\n",
    "    \n",
    "# Results\n",
    "chisq = np.mean((augmented_state[0,:]-xhat[0,:])**2 + (augmented_state[1,:]-xhat[1,:])**2 + \n",
    "               (augmented_state[2,:] - xhat[2,:])**2) # this can probably be simplified to mean((augmented_state - xhat)**2)\n",
    "est = np.transpose(xhat[0:dims_params-1,-1])\n",
    "error = np.transpose(errors[0:dims_params-1,-1])\n",
    "meanest = np.mean(np.transpose(xhat[:dims_params-1,:]))\n",
    "meanerror = np.mean(np.transpose(errors[:dims_params,:]))\n",
    "\n",
    "# Plotting"
   ]
  },
  {
   "cell_type": "code",
   "execution_count": 47,
   "metadata": {
    "collapsed": true
   },
   "outputs": [],
   "source": [
    "# vossut function translated from matlab code in Schiff, ch 5, p.110\n",
    "\n",
    "def voss_unscented_transform(xhat,Pxx,noisy_data,fct,obsfct,dims_params,dims_augmented_state,\n",
    "           dims_observations,observation_noise):\n",
    "    num_sigma_points = 2*dims_augmented_state \n",
    "    \n",
    "    Pxx = symmetrize(Pxx)\n",
    "    xsigma = np.linalg.cholesky(dims_augmented_state*Pxx)\n",
    "    \n",
    "    Xa = generate_sigma_points(xhat,xsigma,num_samples)\n",
    "    X = fct(dims_params,Xa)\n",
    "    \n",
    "    xtilde = sum(np.transpose(X))/2\n",
    "    X1 = np.array([Xcol - xtilde for Xcol in X])\n",
    "    Pxx = np.matmul(X1*np.transpose(X1))/num_samples\n",
    "    Pxx = symmetrize(Pxx)\n",
    "    \n",
    "    Y = obsfct(X)\n",
    "    \n",
    "    return xhat,Pxx,k\n",
    "    \n",
    "def symmetrize(A):\n",
    "    '''Numerical safety'''\n",
    "    return (A + np.transpose(A)) / 2\n",
    "\n",
    "def generate_sigma_points(xhat,xsigma,N):\n",
    "    return xhat*np.ones((1,N)) + np.hstack((xsigma,-xsigma))"
   ]
  },
  {
   "cell_type": "code",
   "execution_count": 79,
   "metadata": {
    "collapsed": true
   },
   "outputs": [],
   "source": [
    "def vossFNint(state,input_current):\n",
    "    '''Check this... Returns derivative of voltage (state[0]) and recovery (state[1]) variables'''\n",
    "    a, b, c = 0.7, 0.8, 3.\n",
    "    return np.array([[c*(state[1]+state[0]-state[0]^3/3+input_current)],\n",
    "                     [-(state[0]-a+b*state[1])/c]]);"
   ]
  },
  {
   "cell_type": "code",
   "execution_count": null,
   "metadata": {
    "collapsed": true
   },
   "outputs": [],
   "source": [
    "x = np.array([[0],[0]])\n",
    "for i in range(100):\n",
    "    "
   ]
  },
  {
   "cell_type": "code",
   "execution_count": 29,
   "metadata": {
    "collapsed": true
   },
   "outputs": [],
   "source": [
    "def vossFNobsfct(X):\n",
    "    return"
   ]
  },
  {
   "cell_type": "code",
   "execution_count": 8,
   "metadata": {
    "collapsed": false
   },
   "outputs": [
    {
     "name": "stdout",
     "output_type": "stream",
     "text": [
      "[[ 0.66014359  0.57504224  0.2511052 ]\n",
      " [ 0.08968374  0.72993851  0.3075679 ]\n",
      " [ 0.14402766  0.57898203  0.91737059]]\n",
      "[[ 0.66014359  0.08968374  0.14402766]\n",
      " [ 0.57504224  0.72993851  0.57898203]\n",
      " [ 0.2511052   0.3075679   0.91737059]]\n"
     ]
    }
   ],
   "source": [
    "A = np.random.rand(3,3)\n",
    "print(A)\n",
    "print(np.transpose(A))"
   ]
  },
  {
   "cell_type": "code",
   "execution_count": null,
   "metadata": {
    "collapsed": true
   },
   "outputs": [],
   "source": []
  }
 ],
 "metadata": {
  "anaconda-cloud": {},
  "kernelspec": {
   "display_name": "Python [conda env:py3k]",
   "language": "python",
   "name": "conda-env-py3k-py"
  },
  "language_info": {
   "codemirror_mode": {
    "name": "ipython",
    "version": 3
   },
   "file_extension": ".py",
   "mimetype": "text/x-python",
   "name": "python",
   "nbconvert_exporter": "python",
   "pygments_lexer": "ipython3",
   "version": "3.5.2"
  }
 },
 "nbformat": 4,
 "nbformat_minor": 1
}
