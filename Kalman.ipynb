{
 "cells": [
  {
   "cell_type": "code",
   "execution_count": 11,
   "metadata": {
    "collapsed": true
   },
   "outputs": [],
   "source": [
    "?UnscentedKalmanFilter"
   ]
  },
  {
   "cell_type": "code",
   "execution_count": 20,
   "metadata": {
    "collapsed": false
   },
   "outputs": [
    {
     "ename": "LinAlgError",
     "evalue": "1-th leading minor not positive definite",
     "output_type": "error",
     "traceback": [
      "\u001b[0;31m---------------------------------------------------------------------------\u001b[0m",
      "\u001b[0;31mLinAlgError\u001b[0m                               Traceback (most recent call last)",
      "\u001b[0;32m<ipython-input-20-ade66f4fe7ea>\u001b[0m in \u001b[0;36m<module>\u001b[0;34m()\u001b[0m\n\u001b[1;32m     29\u001b[0m \u001b[0;34m\u001b[0m\u001b[0m\n\u001b[1;32m     30\u001b[0m \u001b[0;34m\u001b[0m\u001b[0m\n\u001b[0;32m---> 31\u001b[0;31m \u001b[0;34m(\u001b[0m\u001b[0mfiltered_state_means\u001b[0m\u001b[0;34m,\u001b[0m \u001b[0mfiltered_state_covariances\u001b[0m\u001b[0;34m)\u001b[0m \u001b[0;34m=\u001b[0m \u001b[0mukf\u001b[0m\u001b[0;34m.\u001b[0m\u001b[0mfilter\u001b[0m\u001b[0;34m(\u001b[0m\u001b[0mnoisy_data\u001b[0m\u001b[0;34m)\u001b[0m\u001b[0;34m\u001b[0m\u001b[0m\n\u001b[0m\u001b[1;32m     32\u001b[0m \u001b[0;31m# (smoothed_state_means, smoothed_state_covariances) = ukf.smooth([0, 1, 2])\u001b[0m\u001b[0;34m\u001b[0m\u001b[0;34m\u001b[0m\u001b[0m\n",
      "\u001b[0;32m/Users/emilyschlafly/anaconda/envs/py3k/lib/python3.5/site-packages/pykalman-0.9.5-py3.5.egg/pykalman/unscented.py\u001b[0m in \u001b[0;36mfilter\u001b[0;34m(self, Z)\u001b[0m\n\u001b[1;32m    904\u001b[0m                 \u001b[0mtransition_functions\u001b[0m\u001b[0;34m,\u001b[0m \u001b[0mobservation_functions\u001b[0m\u001b[0;34m,\u001b[0m\u001b[0;34m\u001b[0m\u001b[0m\n\u001b[1;32m    905\u001b[0m                 \u001b[0mtransition_covariance\u001b[0m\u001b[0;34m,\u001b[0m \u001b[0mobservation_covariance\u001b[0m\u001b[0;34m,\u001b[0m\u001b[0;34m\u001b[0m\u001b[0m\n\u001b[0;32m--> 906\u001b[0;31m                 \u001b[0mZ\u001b[0m\u001b[0;34m\u001b[0m\u001b[0m\n\u001b[0m\u001b[1;32m    907\u001b[0m             )\n\u001b[1;32m    908\u001b[0m         )\n",
      "\u001b[0;32m/Users/emilyschlafly/anaconda/envs/py3k/lib/python3.5/site-packages/pykalman-0.9.5-py3.5.egg/pykalman/unscented.py\u001b[0m in \u001b[0;36maugmented_unscented_filter\u001b[0;34m(mu_0, sigma_0, f, g, Q, R, Z)\u001b[0m\n\u001b[1;32m    441\u001b[0m         \u001b[0;31m# extract sigma points using augmented representation\u001b[0m\u001b[0;34m\u001b[0m\u001b[0;34m\u001b[0m\u001b[0m\n\u001b[1;32m    442\u001b[0m         (points_state, points_transition, points_observation) = (\n\u001b[0;32m--> 443\u001b[0;31m             \u001b[0maugmented_unscented_filter_points\u001b[0m\u001b[0;34m(\u001b[0m\u001b[0mmu\u001b[0m\u001b[0;34m,\u001b[0m \u001b[0msigma\u001b[0m\u001b[0;34m,\u001b[0m \u001b[0mQ\u001b[0m\u001b[0;34m,\u001b[0m \u001b[0mR\u001b[0m\u001b[0;34m)\u001b[0m\u001b[0;34m\u001b[0m\u001b[0m\n\u001b[0m\u001b[1;32m    444\u001b[0m         )\n\u001b[1;32m    445\u001b[0m \u001b[0;34m\u001b[0m\u001b[0m\n",
      "\u001b[0;32m/Users/emilyschlafly/anaconda/envs/py3k/lib/python3.5/site-packages/pykalman-0.9.5-py3.5.egg/pykalman/unscented.py\u001b[0m in \u001b[0;36maugmented_unscented_filter_points\u001b[0;34m(mean_state, covariance_state, covariance_transition, covariance_observation)\u001b[0m\n\u001b[1;32m    291\u001b[0m             \u001b[0mstate_moments\u001b[0m\u001b[0;34m,\u001b[0m\u001b[0;34m\u001b[0m\u001b[0m\n\u001b[1;32m    292\u001b[0m             \u001b[0mtransition_noise_moments\u001b[0m\u001b[0;34m,\u001b[0m\u001b[0;34m\u001b[0m\u001b[0m\n\u001b[0;32m--> 293\u001b[0;31m             \u001b[0mobservation_noise_moments\u001b[0m\u001b[0;34m\u001b[0m\u001b[0m\n\u001b[0m\u001b[1;32m    294\u001b[0m         ])\n\u001b[1;32m    295\u001b[0m     )\n",
      "\u001b[0;32m/Users/emilyschlafly/anaconda/envs/py3k/lib/python3.5/site-packages/pykalman-0.9.5-py3.5.egg/pykalman/unscented.py\u001b[0m in \u001b[0;36maugmented_points\u001b[0;34m(momentses)\u001b[0m\n\u001b[1;32m    224\u001b[0m \u001b[0;34m\u001b[0m\u001b[0m\n\u001b[1;32m    225\u001b[0m     \u001b[0;31m# turn augmented representation into sigma points\u001b[0m\u001b[0;34m\u001b[0m\u001b[0;34m\u001b[0m\u001b[0m\n\u001b[0;32m--> 226\u001b[0;31m     \u001b[0mpoints_aug\u001b[0m \u001b[0;34m=\u001b[0m \u001b[0mmoments2points\u001b[0m\u001b[0;34m(\u001b[0m\u001b[0mmoments_aug\u001b[0m\u001b[0;34m)\u001b[0m\u001b[0;34m\u001b[0m\u001b[0m\n\u001b[0m\u001b[1;32m    227\u001b[0m \u001b[0;34m\u001b[0m\u001b[0m\n\u001b[1;32m    228\u001b[0m     \u001b[0;31m# unstack everything\u001b[0m\u001b[0;34m\u001b[0m\u001b[0;34m\u001b[0m\u001b[0m\n",
      "\u001b[0;32m/Users/emilyschlafly/anaconda/envs/py3k/lib/python3.5/site-packages/pykalman-0.9.5-py3.5.egg/pykalman/unscented.py\u001b[0m in \u001b[0;36mmoments2points\u001b[0;34m(moments, alpha, beta, kappa)\u001b[0m\n\u001b[1;32m     86\u001b[0m \u001b[0;34m\u001b[0m\u001b[0m\n\u001b[1;32m     87\u001b[0m     \u001b[0;31m# compute sqrt(sigma)\u001b[0m\u001b[0;34m\u001b[0m\u001b[0;34m\u001b[0m\u001b[0m\n\u001b[0;32m---> 88\u001b[0;31m     \u001b[0msigma2\u001b[0m \u001b[0;34m=\u001b[0m \u001b[0mlinalg\u001b[0m\u001b[0;34m.\u001b[0m\u001b[0mcholesky\u001b[0m\u001b[0;34m(\u001b[0m\u001b[0msigma\u001b[0m\u001b[0;34m)\u001b[0m\u001b[0;34m.\u001b[0m\u001b[0mT\u001b[0m\u001b[0;34m\u001b[0m\u001b[0m\n\u001b[0m\u001b[1;32m     89\u001b[0m \u001b[0;34m\u001b[0m\u001b[0m\n\u001b[1;32m     90\u001b[0m     \u001b[0;31m# Calculate scaling factor for all off-center points\u001b[0m\u001b[0;34m\u001b[0m\u001b[0;34m\u001b[0m\u001b[0m\n",
      "\u001b[0;32m/Users/emilyschlafly/anaconda/envs/py3k/lib/python3.5/site-packages/scipy/linalg/decomp_cholesky.py\u001b[0m in \u001b[0;36mcholesky\u001b[0;34m(a, lower, overwrite_a, check_finite)\u001b[0m\n\u001b[1;32m     79\u001b[0m     \"\"\"\n\u001b[1;32m     80\u001b[0m     c, lower = _cholesky(a, lower=lower, overwrite_a=overwrite_a, clean=True,\n\u001b[0;32m---> 81\u001b[0;31m                             check_finite=check_finite)\n\u001b[0m\u001b[1;32m     82\u001b[0m     \u001b[0;32mreturn\u001b[0m \u001b[0mc\u001b[0m\u001b[0;34m\u001b[0m\u001b[0m\n\u001b[1;32m     83\u001b[0m \u001b[0;34m\u001b[0m\u001b[0m\n",
      "\u001b[0;32m/Users/emilyschlafly/anaconda/envs/py3k/lib/python3.5/site-packages/scipy/linalg/decomp_cholesky.py\u001b[0m in \u001b[0;36m_cholesky\u001b[0;34m(a, lower, overwrite_a, clean, check_finite)\u001b[0m\n\u001b[1;32m     28\u001b[0m     \u001b[0mc\u001b[0m\u001b[0;34m,\u001b[0m \u001b[0minfo\u001b[0m \u001b[0;34m=\u001b[0m \u001b[0mpotrf\u001b[0m\u001b[0;34m(\u001b[0m\u001b[0ma1\u001b[0m\u001b[0;34m,\u001b[0m \u001b[0mlower\u001b[0m\u001b[0;34m=\u001b[0m\u001b[0mlower\u001b[0m\u001b[0;34m,\u001b[0m \u001b[0moverwrite_a\u001b[0m\u001b[0;34m=\u001b[0m\u001b[0moverwrite_a\u001b[0m\u001b[0;34m,\u001b[0m \u001b[0mclean\u001b[0m\u001b[0;34m=\u001b[0m\u001b[0mclean\u001b[0m\u001b[0;34m)\u001b[0m\u001b[0;34m\u001b[0m\u001b[0m\n\u001b[1;32m     29\u001b[0m     \u001b[0;32mif\u001b[0m \u001b[0minfo\u001b[0m \u001b[0;34m>\u001b[0m \u001b[0;36m0\u001b[0m\u001b[0;34m:\u001b[0m\u001b[0;34m\u001b[0m\u001b[0m\n\u001b[0;32m---> 30\u001b[0;31m         \u001b[0;32mraise\u001b[0m \u001b[0mLinAlgError\u001b[0m\u001b[0;34m(\u001b[0m\u001b[0;34m\"%d-th leading minor not positive definite\"\u001b[0m \u001b[0;34m%\u001b[0m \u001b[0minfo\u001b[0m\u001b[0;34m)\u001b[0m\u001b[0;34m\u001b[0m\u001b[0m\n\u001b[0m\u001b[1;32m     31\u001b[0m     \u001b[0;32mif\u001b[0m \u001b[0minfo\u001b[0m \u001b[0;34m<\u001b[0m \u001b[0;36m0\u001b[0m\u001b[0;34m:\u001b[0m\u001b[0;34m\u001b[0m\u001b[0m\n\u001b[1;32m     32\u001b[0m         raise ValueError('illegal value in %d-th argument of internal potrf'\n",
      "\u001b[0;31mLinAlgError\u001b[0m: 1-th leading minor not positive definite"
     ]
    }
   ],
   "source": [
    "import numpy as np\n",
    "import scipy.linalg as la\n",
    "import matplotlib.pyplot as plt\n",
    "%matplotlib inline\n",
    "from pykalman import UnscentedKalmanFilter\n",
    "\n",
    "\n",
    "dims_params = 1 # dq\n",
    "dims_augmented_state, dims_observations = dims_params+2, 1 # dx, dy\n",
    "num_samples = 800\n",
    "dt_sample = 0.2\n",
    "dt_integrate = dt_sample\n",
    "steps_per_sample = int(dt_sample//dt_integrate)\n",
    "\n",
    "a, b, c = 0.7, 0.8, 3.\n",
    "\n",
    "def f(state, noise):\n",
    "    v = state\n",
    "    z, w = noise\n",
    "    new_state = ruku4([v,w],dt_integrate,vossFNint,z)\n",
    "    return new_state\n",
    "\n",
    "def g(state, noise):\n",
    "    return state\n",
    "\n",
    "    \n",
    "ukf = UnscentedKalmanFilter(f,g,transition_covariance=0.015, \n",
    "                            observation_covariance=0.2*0.2*np.var(x0[0,:]*np.eye(dims_observations)))\n",
    "\n",
    "\n",
    "(filtered_state_means, filtered_state_covariances) = ukf.filter(noisy_data)\n",
    "# (smoothed_state_means, smoothed_state_covariances) = ukf.smooth([0, 1, 2])"
   ]
  },
  {
   "cell_type": "code",
   "execution_count": 8,
   "metadata": {
    "collapsed": false
   },
   "outputs": [],
   "source": [
    "def vossFNint(variables,params):\n",
    "    '''Fitzhugh-Nagumo model'''\n",
    "    a, b, c = 0.7, 0.8, 3.\n",
    "    v, w = variables\n",
    "    input_current = params.reshape(v.shape)\n",
    "    return np.array([c*(w+v-v**3/3+input_current), -(v-a+b*w)/c]);\n",
    "\n",
    "def ruku4(x0,dt_integrate,function,params):\n",
    "    '''Runge-Kutta integrator - 4th order'''\n",
    "    for i in range(steps_per_sample):\n",
    "        k1 = dt_integrate*function(x0,params)\n",
    "        k2 = dt_integrate*function(x0+k1/2,params)\n",
    "        k3 = dt_integrate*function(x0+k2/2,params)\n",
    "        k4 = dt_integrate*function(x0+k3,params)\n",
    "        x0 += k1/6. + k2/3. + k3/3. + k4/6.\n",
    "    return x0\n",
    "\n",
    "def vossFNobsfct(augmented_state):\n",
    "    return augmented_state[-2,:]\n",
    "\n",
    "# Preallocate arrays\n",
    "x0 = np.zeros((2,num_samples)) # true trajectory\n",
    "xhat = np.zeros((dims_augmented_state,num_samples)) # estimated trajectory\n",
    "Pxx = np.zeros((dims_augmented_state,dims_augmented_state,num_samples)) # covariance in x\n",
    "errors = np.zeros((dims_augmented_state, num_samples))\n",
    "Ks = np.zeros((dims_augmented_state,dims_observations,num_samples))\n",
    "\n",
    "# Initial conditions\n",
    "x0[:,0] = [0.,0.]\n",
    "\n",
    "# External input current, estimated as parameter p later\n",
    "Iext = np.arange(1,num_samples+1)/250.*2*np.pi\n",
    "Iext = -0.4 - 1.01*(np.abs(np.sin(Iext/2.)))\n",
    "\n",
    "for n in range(num_samples-1):\n",
    "    x_temp = x0[:,n]\n",
    "    x0[:,n+1] = ruku4(x_temp,dt_integrate,vossFNint,Iext[n])\n",
    "    \n",
    "augmented_state = np.vstack((Iext,x0))\n",
    "xhat[:,0] = augmented_state[:,0]\n",
    "\n",
    "# Covariances\n",
    "process_noise = 0.015\n",
    "observation_noise = 0.2*0.2*np.var(vossFNobsfct(augmented_state))*np.eye(dims_observations)\n",
    "\n",
    "noisy_data = vossFNobsfct(augmented_state) + np.matmul(la.sqrtm(observation_noise),\n",
    "                                   np.random.randn(dims_observations,num_samples))"
   ]
  },
  {
   "cell_type": "code",
   "execution_count": 4,
   "metadata": {
    "collapsed": false
   },
   "outputs": [
    {
     "data": {
      "text/plain": [
       "[<matplotlib.lines.Line2D at 0x10db5f5c0>]"
      ]
     },
     "execution_count": 4,
     "metadata": {},
     "output_type": "execute_result"
    },
    {
     "data": {
      "image/png": "[encoded data removed]",
      "text/plain": [
       "<matplotlib.figure.Figure at 0x10cda18d0>"
      ]
     },
     "metadata": {},
     "output_type": "display_data"
    }
   ],
   "source": [
    "plt.plot(filtered_state_means)"
   ]
  },
  {
   "cell_type": "code",
   "execution_count": null,
   "metadata": {
    "collapsed": true
   },
   "outputs": [],
   "source": []
  }
 ],
 "metadata": {
  "anaconda-cloud": {},
  "kernelspec": {
   "display_name": "Python [conda env:py3k]",
   "language": "python",
   "name": "conda-env-py3k-py"
  },
  "language_info": {
   "codemirror_mode": {
    "name": "ipython",
    "version": 3
   },
   "file_extension": ".py",
   "mimetype": "text/x-python",
   "name": "python",
   "nbconvert_exporter": "python",
   "pygments_lexer": "ipython3",
   "version": "3.5.2"
  }
 },
 "nbformat": 4,
 "nbformat_minor": 1
}
